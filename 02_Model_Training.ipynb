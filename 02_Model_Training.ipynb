{
 "cells": [
  {
   "cell_type": "markdown",
   "metadata": {},
   "source": [
    "# Model Training\n",
    "\n",
    "Here We will further work on our Dataset and make it ready for model Training.\n",
    "\n",
    "### Procedure:\n",
    "- Correlation analysis(heatmap/statsmodel VIF)\n",
    "- Splitting The Dataset\n",
    "- Data/scaling and Normalization\n",
    "- Model Training (Regression)\n",
    "- Model Evaluation and Hyperparameter tuning\n",
    "- Model Selection\n"
   ]
  },
  {
   "cell_type": "code",
   "execution_count": 1,
   "metadata": {},
   "outputs": [],
   "source": [
    "# Import necessary libraries\n",
    "import pandas as pd \n",
    "import numpy as np\n",
    "import matplotlib.pyplot as plt\n",
    "import seaborn as sns\n",
    "%matplotlib inline\n",
    "#machine learning preprocessing techniques\n",
    "from sklearn.model_selection import train_test_split, RandomizedSearchCV, GridSearchCV\n",
    "from sklearn.compose import ColumnTransformer\n",
    "from sklearn.preprocessing import StandardScaler, OneHotEncoder\n",
    "\n",
    "# Machine learning libraries\n",
    "from sklearn.linear_model import LinearRegression, Ridge, Lasso, ElasticNet\n",
    "from sklearn.svm import SVR\n",
    "from sklearn.ensemble import RandomForestRegressor, GradientBoostingRegressor\n",
    "from sklearn.tree import DecisionTreeRegressor\n",
    "from xgboost import XGBRegressor\n",
    "\n",
    "# Evaluation metrics\n",
    "from sklearn.metrics import r2_score, mean_absolute_error, root_mean_squared_error\n",
    "\n",
    "# Warnings\n",
    "import warnings\n",
    "warnings.filterwarnings('ignore')"
   ]
  },
  {
   "cell_type": "code",
   "execution_count": 2,
   "metadata": {},
   "outputs": [
    {
     "data": {
      "text/html": [
       "<div>\n",
       "<style scoped>\n",
       "    .dataframe tbody tr th:only-of-type {\n",
       "        vertical-align: middle;\n",
       "    }\n",
       "\n",
       "    .dataframe tbody tr th {\n",
       "        vertical-align: top;\n",
       "    }\n",
       "\n",
       "    .dataframe thead th {\n",
       "        text-align: right;\n",
       "    }\n",
       "</style>\n",
       "<table border=\"1\" class=\"dataframe\">\n",
       "  <thead>\n",
       "    <tr style=\"text-align: right;\">\n",
       "      <th></th>\n",
       "      <th>fare_amount</th>\n",
       "      <th>passenger_count</th>\n",
       "      <th>time_of_day</th>\n",
       "      <th>distance</th>\n",
       "      <th>pickup_hour</th>\n",
       "      <th>pickup_day_of_week</th>\n",
       "      <th>pickup_month</th>\n",
       "      <th>pickup_year</th>\n",
       "    </tr>\n",
       "  </thead>\n",
       "  <tbody>\n",
       "    <tr>\n",
       "      <th>0</th>\n",
       "      <td>7.5</td>\n",
       "      <td>1</td>\n",
       "      <td>Evening</td>\n",
       "      <td>1.68</td>\n",
       "      <td>19</td>\n",
       "      <td>3</td>\n",
       "      <td>5</td>\n",
       "      <td>2015</td>\n",
       "    </tr>\n",
       "    <tr>\n",
       "      <th>1</th>\n",
       "      <td>7.7</td>\n",
       "      <td>1</td>\n",
       "      <td>Evening</td>\n",
       "      <td>2.45</td>\n",
       "      <td>20</td>\n",
       "      <td>4</td>\n",
       "      <td>7</td>\n",
       "      <td>2009</td>\n",
       "    </tr>\n",
       "    <tr>\n",
       "      <th>2</th>\n",
       "      <td>12.9</td>\n",
       "      <td>1</td>\n",
       "      <td>Night</td>\n",
       "      <td>5.04</td>\n",
       "      <td>21</td>\n",
       "      <td>0</td>\n",
       "      <td>8</td>\n",
       "      <td>2009</td>\n",
       "    </tr>\n",
       "    <tr>\n",
       "      <th>3</th>\n",
       "      <td>5.3</td>\n",
       "      <td>3</td>\n",
       "      <td>Morning</td>\n",
       "      <td>1.66</td>\n",
       "      <td>8</td>\n",
       "      <td>4</td>\n",
       "      <td>6</td>\n",
       "      <td>2009</td>\n",
       "    </tr>\n",
       "    <tr>\n",
       "      <th>4</th>\n",
       "      <td>16.0</td>\n",
       "      <td>5</td>\n",
       "      <td>Evening</td>\n",
       "      <td>4.48</td>\n",
       "      <td>17</td>\n",
       "      <td>3</td>\n",
       "      <td>8</td>\n",
       "      <td>2014</td>\n",
       "    </tr>\n",
       "  </tbody>\n",
       "</table>\n",
       "</div>"
      ],
      "text/plain": [
       "   fare_amount  passenger_count time_of_day  distance  pickup_hour  \\\n",
       "0          7.5                1     Evening      1.68           19   \n",
       "1          7.7                1     Evening      2.45           20   \n",
       "2         12.9                1       Night      5.04           21   \n",
       "3          5.3                3     Morning      1.66            8   \n",
       "4         16.0                5     Evening      4.48           17   \n",
       "\n",
       "   pickup_day_of_week  pickup_month  pickup_year  \n",
       "0                   3             5         2015  \n",
       "1                   4             7         2009  \n",
       "2                   0             8         2009  \n",
       "3                   4             6         2009  \n",
       "4                   3             8         2014  "
      ]
     },
     "execution_count": 2,
     "metadata": {},
     "output_type": "execute_result"
    }
   ],
   "source": [
    "## Read the Cleaned Dataset\n",
    "df = pd.read_csv('Cleaned_dataset.csv')\n",
    "df.head()"
   ]
  },
  {
   "cell_type": "code",
   "execution_count": 37,
   "metadata": {},
   "outputs": [
    {
     "data": {
      "text/plain": [
       "array(['Evening', 'Night', 'Morning', 'Afternoon'], dtype=object)"
      ]
     },
     "execution_count": 37,
     "metadata": {},
     "output_type": "execute_result"
    }
   ],
   "source": [
    "df['time_of_day'].unique()"
   ]
  },
  {
   "cell_type": "markdown",
   "metadata": {},
   "source": [
    "## Correlation analysis\n"
   ]
  },
  {
   "cell_type": "code",
   "execution_count": 3,
   "metadata": {},
   "outputs": [
    {
     "data": {
      "text/plain": [
       "<function matplotlib.pyplot.show(close=None, block=None)>"
      ]
     },
     "execution_count": 3,
     "metadata": {},
     "output_type": "execute_result"
    },
    {
     "data": {
      "image/png": "[encoded data removed]",
      "text/plain": [
       "<Figure size 640x480 with 2 Axes>"
      ]
     },
     "metadata": {},
     "output_type": "display_data"
    }
   ],
   "source": [
    "sns.heatmap(df[df.select_dtypes(exclude='object').columns].corr(), annot=True)\n",
    "plt.tight_layout()\n",
    "plt.show"
   ]
  },
  {
   "cell_type": "markdown",
   "metadata": {},
   "source": [
    "## Insights\n",
    "\n",
    "- Distance is the strongest predictor of fare amount. This emphasizes that distance is the primary driver for fare pricing.\n",
    "- Temporal features (hour, day, year) show little to no influence on fare directly, but pickup year could suggest incremental fare increases over time.\n",
    "- Passenger count has minimal impact on fare, indicating that the number of riders doesn’t heavily influence pricing."
   ]
  },
  {
   "cell_type": "markdown",
   "metadata": {},
   "source": [
    "## Splitting the dataset\n",
    "\n",
    "we will split the dataset into train and test part. This helps us to evaluate the model."
   ]
  },
  {
   "cell_type": "code",
   "execution_count": 4,
   "metadata": {},
   "outputs": [
    {
     "name": "stdout",
     "output_type": "stream",
     "text": [
      "The dimension of the  training set: (130156, 7)\n",
      "The dimension of the  testing set: (32539, 7)\n",
      "The dimension of the original set: (162695, 8)\n"
     ]
    }
   ],
   "source": [
    "# Independent and Dependent variable\n",
    "X = df.drop(['fare_amount'], axis=1)\n",
    "y = df['fare_amount']\n",
    "\n",
    "# utilizing train_test_split\n",
    "X_train,X_test,y_train,y_test = train_test_split(X,y, train_size=0.8, test_size=0.2, random_state=42)\n",
    "\n",
    "print(f'The dimension of the  training set: {X_train.shape}')\n",
    "print(f'The dimension of the  testing set: {X_test.shape}')\n",
    "print(f'The dimension of the original set: {df.shape}')"
   ]
  },
  {
   "cell_type": "markdown",
   "metadata": {},
   "source": [
    "## Data Normalization & Transforming categorical features\n",
    "\n",
    "Data Normalization: It helps in scaling all the feature to a similar range that helps in effeciant learning of the model\n",
    "\n",
    "Transformation: it helps transforming categorical features to numerical features that helps the model to learn its significance."
   ]
  },
  {
   "cell_type": "code",
   "execution_count": 5,
   "metadata": {},
   "outputs": [],
   "source": [
    "# utilizing columntransformer tobuild a pipeline\n",
    "cat_features = ['time_of_day']\n",
    "num_features = X.select_dtypes(exclude='object').columns\n",
    "\n",
    "oh_transformer = OneHotEncoder()\n",
    "num_transformer = StandardScaler()\n",
    "\n",
    "preprocessor = ColumnTransformer(\n",
    "\n",
    "    [\n",
    "\n",
    "        ('OneHot Encoding', oh_transformer, cat_features),\n",
    "        ('Standard Scaling', num_transformer, num_features)\n",
    "    ], remainder='passthrough'\n",
    ")\n"
   ]
  },
  {
   "cell_type": "code",
   "execution_count": 6,
   "metadata": {},
   "outputs": [],
   "source": [
    "# fit transforming X_train\n",
    "X_train = preprocessor.fit_transform(X_train)\n",
    "\n",
    "# transform X_test (not fit_transform in testing set to prevent data leakage)\n",
    "X_test = preprocessor.transform(X_test)"
   ]
  },
  {
   "cell_type": "code",
   "execution_count": 38,
   "metadata": {},
   "outputs": [
    {
     "data": {
      "text/html": [
       "<div>\n",
       "<style scoped>\n",
       "    .dataframe tbody tr th:only-of-type {\n",
       "        vertical-align: middle;\n",
       "    }\n",
       "\n",
       "    .dataframe tbody tr th {\n",
       "        vertical-align: top;\n",
       "    }\n",
       "\n",
       "    .dataframe thead th {\n",
       "        text-align: right;\n",
       "    }\n",
       "</style>\n",
       "<table border=\"1\" class=\"dataframe\">\n",
       "  <thead>\n",
       "    <tr style=\"text-align: right;\">\n",
       "      <th></th>\n",
       "      <th>time_of_day_Afternoon</th>\n",
       "      <th>time_of_day_Evening</th>\n",
       "      <th>time_of_day_Morning</th>\n",
       "      <th>time_of_day_Night</th>\n",
       "      <th>passenger_count</th>\n",
       "      <th>distance</th>\n",
       "      <th>pickup_hour</th>\n",
       "      <th>pickup_day_of_week</th>\n",
       "      <th>pickup_month</th>\n",
       "      <th>pickup_year</th>\n",
       "    </tr>\n",
       "  </thead>\n",
       "  <tbody>\n",
       "    <tr>\n",
       "      <th>0</th>\n",
       "      <td>0.0</td>\n",
       "      <td>1.0</td>\n",
       "      <td>0.0</td>\n",
       "      <td>0.0</td>\n",
       "      <td>0.239454</td>\n",
       "      <td>-1.203857</td>\n",
       "      <td>0.527338</td>\n",
       "      <td>-1.047096</td>\n",
       "      <td>-0.073526</td>\n",
       "      <td>0.700595</td>\n",
       "    </tr>\n",
       "    <tr>\n",
       "      <th>1</th>\n",
       "      <td>0.0</td>\n",
       "      <td>0.0</td>\n",
       "      <td>1.0</td>\n",
       "      <td>0.0</td>\n",
       "      <td>-0.527059</td>\n",
       "      <td>-0.839967</td>\n",
       "      <td>-1.036005</td>\n",
       "      <td>-1.562240</td>\n",
       "      <td>-1.524336</td>\n",
       "      <td>-0.913366</td>\n",
       "    </tr>\n",
       "    <tr>\n",
       "      <th>2</th>\n",
       "      <td>0.0</td>\n",
       "      <td>1.0</td>\n",
       "      <td>0.0</td>\n",
       "      <td>0.0</td>\n",
       "      <td>0.239454</td>\n",
       "      <td>-0.040994</td>\n",
       "      <td>0.996341</td>\n",
       "      <td>-1.047096</td>\n",
       "      <td>-0.363688</td>\n",
       "      <td>-0.375379</td>\n",
       "    </tr>\n",
       "    <tr>\n",
       "      <th>3</th>\n",
       "      <td>0.0</td>\n",
       "      <td>0.0</td>\n",
       "      <td>1.0</td>\n",
       "      <td>0.0</td>\n",
       "      <td>-0.527059</td>\n",
       "      <td>-0.365329</td>\n",
       "      <td>-1.192339</td>\n",
       "      <td>-1.562240</td>\n",
       "      <td>0.506798</td>\n",
       "      <td>0.700595</td>\n",
       "    </tr>\n",
       "    <tr>\n",
       "      <th>4</th>\n",
       "      <td>1.0</td>\n",
       "      <td>0.0</td>\n",
       "      <td>0.0</td>\n",
       "      <td>0.0</td>\n",
       "      <td>1.772481</td>\n",
       "      <td>-0.586827</td>\n",
       "      <td>0.058335</td>\n",
       "      <td>-0.531953</td>\n",
       "      <td>-0.944012</td>\n",
       "      <td>-0.913366</td>\n",
       "    </tr>\n",
       "  </tbody>\n",
       "</table>\n",
       "</div>"
      ],
      "text/plain": [
       "   time_of_day_Afternoon  time_of_day_Evening  time_of_day_Morning  \\\n",
       "0                    0.0                  1.0                  0.0   \n",
       "1                    0.0                  0.0                  1.0   \n",
       "2                    0.0                  1.0                  0.0   \n",
       "3                    0.0                  0.0                  1.0   \n",
       "4                    1.0                  0.0                  0.0   \n",
       "\n",
       "   time_of_day_Night  passenger_count  distance  pickup_hour  \\\n",
       "0                0.0         0.239454 -1.203857     0.527338   \n",
       "1                0.0        -0.527059 -0.839967    -1.036005   \n",
       "2                0.0         0.239454 -0.040994     0.996341   \n",
       "3                0.0        -0.527059 -0.365329    -1.192339   \n",
       "4                0.0         1.772481 -0.586827     0.058335   \n",
       "\n",
       "   pickup_day_of_week  pickup_month  pickup_year  \n",
       "0           -1.047096     -0.073526     0.700595  \n",
       "1           -1.562240     -1.524336    -0.913366  \n",
       "2           -1.047096     -0.363688    -0.375379  \n",
       "3           -1.562240      0.506798     0.700595  \n",
       "4           -0.531953     -0.944012    -0.913366  "
      ]
     },
     "execution_count": 38,
     "metadata": {},
     "output_type": "execute_result"
    }
   ],
   "source": [
    "# Get one-hot encoded feature names\n",
    "encoded_cat_features = preprocessor.named_transformers_['OneHot Encoding'].get_feature_names_out(cat_features)\n",
    "\n",
    "# Combine with numerical features\n",
    "all_feature_names = list(encoded_cat_features) + list(num_features)\n",
    "\n",
    "# Create DataFrame\n",
    "X_train_df = pd.DataFrame(X_train, columns=all_feature_names)\n",
    "\n",
    "X_train_df.head()"
   ]
  },
  {
   "cell_type": "code",
   "execution_count": 7,
   "metadata": {},
   "outputs": [
    {
     "data": {
      "text/plain": [
       "array([[ 0.        ,  1.        ,  0.        , ..., -1.04709646,\n",
       "        -0.07352588,  0.70059523],\n",
       "       [ 0.        ,  0.        ,  1.        , ..., -1.5622401 ,\n",
       "        -1.52433606, -0.91336627],\n",
       "       [ 0.        ,  1.        ,  0.        , ..., -1.04709646,\n",
       "        -0.36368791, -0.3753791 ],\n",
       "       ...,\n",
       "       [ 0.        ,  0.        ,  0.        , ...,  1.52862175,\n",
       "         1.08712227, -0.3753791 ],\n",
       "       [ 0.        ,  0.        ,  1.        , ..., -1.04709646,\n",
       "        -1.52433606, -0.3753791 ],\n",
       "       [ 0.        ,  0.        ,  1.        , ...,  0.49833447,\n",
       "         0.79696023,  0.16260806]], shape=(130156, 10))"
      ]
     },
     "execution_count": 7,
     "metadata": {},
     "output_type": "execute_result"
    }
   ],
   "source": [
    "X_train"
   ]
  },
  {
   "cell_type": "code",
   "execution_count": 8,
   "metadata": {},
   "outputs": [
    {
     "data": {
      "text/plain": [
       "array([[ 0.        ,  0.        ,  0.        , ...,  1.52862175,\n",
       "         1.3772843 , -0.91336627],\n",
       "       [ 0.        ,  0.        ,  0.        , ...,  1.52862175,\n",
       "         1.08712227, -0.91336627],\n",
       "       [ 0.        ,  0.        ,  0.        , ..., -0.53195282,\n",
       "        -0.65384995,  0.16260806],\n",
       "       ...,\n",
       "       [ 1.        ,  0.        ,  0.        , ...,  1.52862175,\n",
       "         1.08712227, -0.3753791 ],\n",
       "       [ 0.        ,  0.        ,  1.        , ..., -0.01680918,\n",
       "         0.21663616, -1.45135344],\n",
       "       [ 0.        ,  0.        ,  1.        , ..., -1.04709646,\n",
       "         0.5067982 ,  0.70059523]], shape=(32539, 10))"
      ]
     },
     "execution_count": 8,
     "metadata": {},
     "output_type": "execute_result"
    }
   ],
   "source": [
    "X_test"
   ]
  },
  {
   "cell_type": "markdown",
   "metadata": {},
   "source": [
    "## Training the Model\n",
    "\n",
    "Here we will Train and evaluate the Model Followed by Hyperparameter tuning to make our model more accurate."
   ]
  },
  {
   "cell_type": "code",
   "execution_count": 9,
   "metadata": {},
   "outputs": [],
   "source": [
    "## Creating a function that will evaluate model \n",
    "\n",
    "def evaluate_model(true, predicted):\n",
    "    mae = mean_absolute_error(true, predicted)\n",
    "    rmse = root_mean_squared_error(true, predicted)\n",
    "    r2_square = r2_score(true, predicted)\n",
    "    return mae, rmse, r2_square"
   ]
  },
  {
   "cell_type": "code",
   "execution_count": 27,
   "metadata": {},
   "outputs": [
    {
     "name": "stdout",
     "output_type": "stream",
     "text": [
      "Linear Regression\n",
      "Model Performance for Training Set\n",
      "- Root Mean Squared Error: 1.9507220750210343\n",
      "- Mean Absolute Error: 1.4245866166560917\n",
      "- R2 Score: 0.6300434015275717\n",
      "------------------------------------------------------------------------\n",
      "Model Performance for Testing Set\n",
      "- Root Mean Squared Error: 1.9277561283268423\n",
      "- Mean Absolute Error: 1.406726712837924\n",
      "- R2 Score: 0.6322133488358433\n",
      "==================================================\n",
      "\n",
      "\n",
      "Lasso Regression\n",
      "Model Performance for Training Set\n",
      "- Root Mean Squared Error: 2.281899587852295\n",
      "- Mean Absolute Error: 1.782136628284032\n",
      "- R2 Score: 0.4937639832481113\n",
      "------------------------------------------------------------------------\n",
      "Model Performance for Testing Set\n",
      "- Root Mean Squared Error: 2.2553650254062974\n",
      "- Mean Absolute Error: 1.762091528472723\n",
      "- R2 Score: 0.4965858014475293\n",
      "==================================================\n",
      "\n",
      "\n",
      "Ridge Regression\n",
      "Model Performance for Training Set\n",
      "- Root Mean Squared Error: 1.950620345490041\n",
      "- Mean Absolute Error: 1.424461870402043\n",
      "- R2 Score: 0.6300819867575154\n",
      "------------------------------------------------------------------------\n",
      "Model Performance for Testing Set\n",
      "- Root Mean Squared Error: 1.9278100328184193\n",
      "- Mean Absolute Error: 1.4068180676787483\n",
      "- R2 Score: 0.6321927802283004\n",
      "==================================================\n",
      "\n",
      "\n",
      "Elastic Net\n",
      "Model Performance for Training Set\n",
      "- Root Mean Squared Error: 2.3480479750104064\n",
      "- Mean Absolute Error: 1.8447811941810637\n",
      "- R2 Score: 0.4639887403881363\n",
      "------------------------------------------------------------------------\n",
      "Model Performance for Testing Set\n",
      "- Root Mean Squared Error: 2.3212906571213097\n",
      "- Mean Absolute Error: 1.824620865527922\n",
      "- R2 Score: 0.46672549105653327\n",
      "==================================================\n",
      "\n",
      "\n",
      "Decision Tree Regressor\n",
      "Model Performance for Training Set\n",
      "- Root Mean Squared Error: 0.16391244894017534\n",
      "- Mean Absolute Error: 0.01520101519202598\n",
      "- R2 Score: 0.9973879357314107\n",
      "------------------------------------------------------------------------\n",
      "Model Performance for Testing Set\n",
      "- Root Mean Squared Error: 2.6554309051609097\n",
      "- Mean Absolute Error: 1.9081876107645184\n",
      "- R2 Score: 0.3021504728624981\n",
      "==================================================\n",
      "\n",
      "\n",
      "Random Forest Regressor\n",
      "Model Performance for Training Set\n",
      "- Root Mean Squared Error: 0.7285386155155147\n",
      "- Mean Absolute Error: 0.5264559080477054\n",
      "- R2 Score: 0.948398166553454\n",
      "------------------------------------------------------------------------\n",
      "Model Performance for Testing Set\n",
      "- Root Mean Squared Error: 1.9075481266273524\n",
      "- Mean Absolute Error: 1.394737337185609\n",
      "- R2 Score: 0.6398836950958156\n",
      "==================================================\n",
      "\n",
      "\n",
      "Gradient Boost\n",
      "Model Performance for Training Set\n",
      "- Root Mean Squared Error: 1.8212116442682025\n",
      "- Mean Absolute Error: 1.315435316891476\n",
      "- R2 Score: 0.6775363115690902\n",
      "------------------------------------------------------------------------\n",
      "Model Performance for Testing Set\n",
      "- Root Mean Squared Error: 1.8094723689226249\n",
      "- Mean Absolute Error: 1.3071427145127907\n",
      "- R2 Score: 0.6759621894826815\n",
      "==================================================\n",
      "\n",
      "\n",
      "XGBRegressor\n",
      "Model Performance for Training Set\n",
      "- Root Mean Squared Error: 1.730037470364103\n",
      "- Mean Absolute Error: 1.2519145949789061\n",
      "- R2 Score: 0.7090147337663175\n",
      "------------------------------------------------------------------------\n",
      "Model Performance for Testing Set\n",
      "- Root Mean Squared Error: 1.8109071442381799\n",
      "- Mean Absolute Error: 1.3050436960599767\n",
      "- R2 Score: 0.6754481105902113\n",
      "==================================================\n",
      "\n",
      "\n",
      "Support Vector Regressor\n",
      "Model Performance for Training Set\n",
      "- Root Mean Squared Error: 1.8676306039329367\n",
      "- Mean Absolute Error: 1.287889098056801\n",
      "- R2 Score: 0.6608889479165814\n",
      "------------------------------------------------------------------------\n",
      "Model Performance for Testing Set\n",
      "- Root Mean Squared Error: 1.8549680261756019\n",
      "- Mean Absolute Error: 1.2821177955060492\n",
      "- R2 Score: 0.6594627426920753\n",
      "==================================================\n",
      "\n",
      "\n"
     ]
    }
   ],
   "source": [
    "# Utilising different models to see their base scores.\n",
    "models = {\n",
    "    'Linear Regression': LinearRegression(),\n",
    "    'Lasso Regression': Lasso(),\n",
    "    'Ridge Regression': Ridge(),\n",
    "    'Elastic Net': ElasticNet(),\n",
    "    'Decision Tree Regressor': DecisionTreeRegressor(),\n",
    "    'Random Forest Regressor': RandomForestRegressor(),\n",
    "    'Gradient Boost': GradientBoostingRegressor(),\n",
    "    'XGBRegressor': XGBRegressor(),\n",
    "    'Support Vector Regressor': SVR(kernel='rbf')\n",
    "\n",
    "}\n",
    "\n",
    "model_list = []\n",
    "r2_list = []\n",
    "\n",
    "for i in range(len(list(models))):\n",
    "    model = list(models.values())[i]\n",
    "    model.fit(X_train, y_train) # Train Model\n",
    "\n",
    "    # Make Predictions\n",
    "    y_train_pred = model.predict(X_train)\n",
    "    y_test_pred = model.predict(X_test)\n",
    "\n",
    "    #Evaluate Train and Test Dataset (evaluating with both train and test dependent variables are important to check if the model is overfitting or not.)\n",
    "    model_train_mae, model_train_rmse, model_train_r2 = evaluate_model(y_train, y_train_pred)\n",
    "\n",
    "    model_test_mae, model_test_rmse, model_test_r2 = evaluate_model(y_test, y_test_pred)\n",
    "\n",
    "    print(list(models.keys())[i])\n",
    "    model_list.append(list(models.keys())[i])\n",
    "\n",
    "    print(\"Model Performance for Training Set\")\n",
    "    print(f'- Root Mean Squared Error: {model_train_rmse}')\n",
    "    print(f'- Mean Absolute Error: {model_train_mae}')\n",
    "    print(f'- R2 Score: {model_train_r2}')\n",
    "\n",
    "    print('------------------------------------------------------------------------')\n",
    "\n",
    "    print(\"Model Performance for Testing Set\")\n",
    "    print(f'- Root Mean Squared Error: {model_test_rmse}')\n",
    "    print(f'- Mean Absolute Error: {model_test_mae}')\n",
    "    print(f'- R2 Score: {model_test_r2}')\n",
    "\n",
    "    r2_list.append(model_test_r2)\n",
    "\n",
    "    print('='*50)\n",
    "    print('\\n')\n",
    "\n"
   ]
  },
  {
   "cell_type": "code",
   "execution_count": 29,
   "metadata": {},
   "outputs": [
    {
     "data": {
      "text/html": [
       "<div>\n",
       "<style scoped>\n",
       "    .dataframe tbody tr th:only-of-type {\n",
       "        vertical-align: middle;\n",
       "    }\n",
       "\n",
       "    .dataframe tbody tr th {\n",
       "        vertical-align: top;\n",
       "    }\n",
       "\n",
       "    .dataframe thead th {\n",
       "        text-align: right;\n",
       "    }\n",
       "</style>\n",
       "<table border=\"1\" class=\"dataframe\">\n",
       "  <thead>\n",
       "    <tr style=\"text-align: right;\">\n",
       "      <th></th>\n",
       "      <th>Model name</th>\n",
       "      <th>R2 Score</th>\n",
       "    </tr>\n",
       "  </thead>\n",
       "  <tbody>\n",
       "    <tr>\n",
       "      <th>6</th>\n",
       "      <td>Gradient Boost</td>\n",
       "      <td>0.675962</td>\n",
       "    </tr>\n",
       "    <tr>\n",
       "      <th>7</th>\n",
       "      <td>XGBRegressor</td>\n",
       "      <td>0.675448</td>\n",
       "    </tr>\n",
       "    <tr>\n",
       "      <th>8</th>\n",
       "      <td>Support Vector Regressor</td>\n",
       "      <td>0.659463</td>\n",
       "    </tr>\n",
       "    <tr>\n",
       "      <th>5</th>\n",
       "      <td>Random Forest Regressor</td>\n",
       "      <td>0.639884</td>\n",
       "    </tr>\n",
       "    <tr>\n",
       "      <th>0</th>\n",
       "      <td>Linear Regression</td>\n",
       "      <td>0.632213</td>\n",
       "    </tr>\n",
       "    <tr>\n",
       "      <th>2</th>\n",
       "      <td>Ridge Regression</td>\n",
       "      <td>0.632193</td>\n",
       "    </tr>\n",
       "    <tr>\n",
       "      <th>1</th>\n",
       "      <td>Lasso Regression</td>\n",
       "      <td>0.496586</td>\n",
       "    </tr>\n",
       "    <tr>\n",
       "      <th>3</th>\n",
       "      <td>Elastic Net</td>\n",
       "      <td>0.466725</td>\n",
       "    </tr>\n",
       "    <tr>\n",
       "      <th>4</th>\n",
       "      <td>Decision Tree Regressor</td>\n",
       "      <td>0.302150</td>\n",
       "    </tr>\n",
       "  </tbody>\n",
       "</table>\n",
       "</div>"
      ],
      "text/plain": [
       "                 Model name  R2 Score\n",
       "6            Gradient Boost  0.675962\n",
       "7              XGBRegressor  0.675448\n",
       "8  Support Vector Regressor  0.659463\n",
       "5   Random Forest Regressor  0.639884\n",
       "0         Linear Regression  0.632213\n",
       "2          Ridge Regression  0.632193\n",
       "1          Lasso Regression  0.496586\n",
       "3               Elastic Net  0.466725\n",
       "4   Decision Tree Regressor  0.302150"
      ]
     },
     "execution_count": 29,
     "metadata": {},
     "output_type": "execute_result"
    }
   ],
   "source": [
    "pd.DataFrame(list(zip(model_list, r2_list)), columns = ['Model name','R2 Score']).sort_values(by=['R2 Score'], ascending=False)"
   ]
  },
  {
   "cell_type": "code",
   "execution_count": 30,
   "metadata": {},
   "outputs": [
    {
     "data": {
      "image/png": "[encoded data removed]",
      "text/plain": [
       "<Figure size 1000x600 with 1 Axes>"
      ]
     },
     "metadata": {},
     "output_type": "display_data"
    }
   ],
   "source": [
    "# Create DataFrame from model names and R² scores\n",
    "models_dataframe= pd.DataFrame(list(zip(model_list, r2_list)), columns=['Model name', 'R2 Score']).sort_values(by=['R2 Score'], ascending=False)\n",
    "\n",
    "# Plotting the R² scores\n",
    "plt.figure(figsize=(10, 6))\n",
    "plt.barh(models_dataframe['Model name'], models_dataframe['R2 Score'], color='skyblue')\n",
    "plt.xlabel('R2 Score')\n",
    "plt.ylabel('Model Name')\n",
    "plt.title('Model Performance Comparison (R² Score)')\n",
    "plt.gca().invert_yaxis()  # Invert y-axis to show the best model on top\n",
    "plt.show()"
   ]
  },
  {
   "cell_type": "markdown",
   "metadata": {},
   "source": [
    "## Hyperparameter Tuning\n",
    "\n",
    "based on the r2 dataframe scoreswe will choose the top 2 model for hyperparameter tuning that are performing very well:\n",
    "\n",
    "- Gradient Boost\n",
    "- XGBRegressor\n"
   ]
  },
  {
   "cell_type": "code",
   "execution_count": 12,
   "metadata": {},
   "outputs": [
    {
     "name": "stdout",
     "output_type": "stream",
     "text": [
      "Fitting 3 folds for each of 100 candidates, totalling 300 fits\n",
      "{'subsample': 1.0, 'reg_lambda': 1, 'objective': 'reg:squarederror', 'n_estimators': 100, 'max_depth': 7, 'learning_rate': 0.1, 'gamma': 0.1, 'colsample_bytree': 0.8, 'booster': 'gbtree'}\n",
      "Fitting 3 folds for each of 100 candidates, totalling 300 fits\n",
      "{'subsample': 0.8, 'n_estimators': 300, 'min_samples_split': 5, 'min_samples_leaf': 5, 'max_features': 'log2', 'max_depth': 5, 'learning_rate': 0.05}\n"
     ]
    }
   ],
   "source": [
    "# Initializing the parameters\n",
    "\n",
    "xg_params = {\n",
    "    'booster': ['gbtree','gblinear'],\n",
    "    'n_estimators': [100,200],\n",
    "    'learning_rate':[0.01,0.1],\n",
    "    'max_depth': [3,7],\n",
    "    'subsample': [0.8,1.0],\n",
    "    'colsample_bytree': [0.8,1.0],\n",
    "    'gamma': [0,0.1],\n",
    "    'reg_lambda': [0.001,0.1,1],\n",
    "    'objective': ['reg:squarederror','reg:squaredlogerror','reg:pseudohubererror', 'reg:absoluteerror']\n",
    "    }\n",
    "\n",
    "gradient_params = {\n",
    "    'n_estimators': [100, 200, 300],             \n",
    "    'learning_rate': [0.01, 0.05, 0.1, 0.2],     \n",
    "    'max_depth': [3, 4, 5, 6],                   \n",
    "    'min_samples_split': [2, 5, 10],             \n",
    "    'min_samples_leaf': [1, 3, 5],               \n",
    "    'subsample': [0.7, 0.8, 1.0],                \n",
    "    'max_features': ['sqrt', 'log2', None]       \n",
    "}\n",
    "randomcv_model = [\n",
    "    ('XGB', XGBRegressor(), xg_params),\n",
    "    ('gradient boost', GradientBoostingRegressor(), gradient_params),\n",
    "    \n",
    "]\n",
    "\n",
    "for name, model, params in randomcv_model:\n",
    "    random = RandomizedSearchCV(estimator=model,\n",
    "                                param_distributions=params,\n",
    "                                n_iter=100,\n",
    "                                cv=3,\n",
    "                                scoring='neg_mean_squared_error',\n",
    "                                verbose=2,\n",
    "                                n_jobs=-1\n",
    "                                )\n",
    "\n",
    "    random.fit(X_train, y_train)\n",
    "    model_param = random.best_params_\n",
    "    print(model_param)"
   ]
  },
  {
   "cell_type": "code",
   "execution_count": 31,
   "metadata": {},
   "outputs": [
    {
     "name": "stdout",
     "output_type": "stream",
     "text": [
      "Gradient Boost\n",
      "Model Performance for Training Set\n",
      "- Root Mean Squared Error: 1.7864633502632885\n",
      "- Mean Absolute Error: 1.2881913404888687\n",
      "- R2 Score: 0.6897239868343745\n",
      "------------------------------------------------------------------------\n",
      "Model Performance for Testing Set\n",
      "- Root Mean Squared Error: 1.7977960852474477\n",
      "- Mean Absolute Error: 1.294385442104404\n",
      "- R2 Score: 0.6801306421945565\n",
      "==================================================\n",
      "\n",
      "\n",
      "XGBRegressor\n",
      "Model Performance for Training Set\n",
      "- Root Mean Squared Error: 1.7199466094511229\n",
      "- Mean Absolute Error: 1.244020821095656\n",
      "- R2 Score: 0.7123993177237765\n",
      "------------------------------------------------------------------------\n",
      "Model Performance for Testing Set\n",
      "- Root Mean Squared Error: 1.8023338213116513\n",
      "- Mean Absolute Error: 1.2983630447870702\n",
      "- R2 Score: 0.6785138686975749\n",
      "==================================================\n",
      "\n",
      "\n"
     ]
    }
   ],
   "source": [
    "# Utilising different models to see their base scores.\n",
    "models = {\n",
    "    'Gradient Boost': GradientBoostingRegressor(subsample= 0.8, n_estimators=300, min_samples_split= 5, min_samples_leaf=5, max_features= 'sqrt', max_depth=5, learning_rate=0.05),\n",
    "    'XGBRegressor': XGBRegressor(objective= 'reg:squarederror', reg_lambda = 1, booster='gbtree',subsample =1.0, n_estimators =300, learning_rate=0.1, max_depth =7, gamma=0.1, colsample_bytree=0.8)}\n",
    "\n",
    "model_list = []\n",
    "r2_list = []\n",
    "\n",
    "for i in range(len(list(models))):\n",
    "    model = list(models.values())[i]\n",
    "    model.fit(X_train, y_train) # Train Model\n",
    "\n",
    "    # Make Predictions\n",
    "    y_train_pred = model.predict(X_train)\n",
    "    y_test_pred = model.predict(X_test)\n",
    "\n",
    "    #Evaluate Train and Test Dataset (evaluating with both train and test dependent variables are important to check if the model is overfitting or not.)\n",
    "    model_train_mae, model_train_rmse, model_train_r2 = evaluate_model(y_train, y_train_pred)\n",
    "\n",
    "    model_test_mae, model_test_rmse, model_test_r2 = evaluate_model(y_test, y_test_pred)\n",
    "\n",
    "    print(list(models.keys())[i])\n",
    "    model_list.append(list(models.keys())[i])\n",
    "\n",
    "    print(\"Model Performance for Training Set\")\n",
    "    print(f'- Root Mean Squared Error: {model_train_rmse}')\n",
    "    print(f'- Mean Absolute Error: {model_train_mae}')\n",
    "    print(f'- R2 Score: {model_train_r2}')\n",
    "\n",
    "    print('------------------------------------------------------------------------')\n",
    "\n",
    "    print(\"Model Performance for Testing Set\")\n",
    "    print(f'- Root Mean Squared Error: {model_test_rmse}')\n",
    "    print(f'- Mean Absolute Error: {model_test_mae}')\n",
    "    print(f'- R2 Score: {model_test_r2}')\n",
    "\n",
    "    r2_list.append(model_test_r2)\n",
    "\n",
    "    print('='*50)\n",
    "    print('\\n')\n"
   ]
  },
  {
   "cell_type": "markdown",
   "metadata": {},
   "source": [
    "## Evaluation\n",
    "\n",
    "- Gradient Boosting showed an incredible performance metrics. r2score of 0.68 approx in bothe training and testing.\n",
    "- Gradient boosting also showed less overfitting issue compared to xgboost or randomforest showing the reliability of the model.\n"
   ]
  },
  {
   "cell_type": "markdown",
   "metadata": {},
   "source": [
    "## Feature Importance\n",
    "\n",
    "importance of each feature in predicting the fare amount"
   ]
  },
  {
   "cell_type": "code",
   "execution_count": 34,
   "metadata": {},
   "outputs": [],
   "source": [
    "importance =model.feature_importances_"
   ]
  },
  {
   "cell_type": "code",
   "execution_count": 40,
   "metadata": {},
   "outputs": [
    {
     "data": {
      "image/png": "[encoded data removed]",
      "text/plain": [
       "<Figure size 1000x600 with 1 Axes>"
      ]
     },
     "metadata": {},
     "output_type": "display_data"
    }
   ],
   "source": [
    "import matplotlib.pyplot as plt\n",
    "\n",
    "plt.figure(figsize=(10, 6))\n",
    "plt.barh(X_train_df.columns, importance)\n",
    "plt.xlabel('Importance')\n",
    "plt.ylabel('Features')\n",
    "plt.title('Feature Importance for Fare Prediction')\n",
    "plt.show()"
   ]
  },
  {
   "cell_type": "markdown",
   "metadata": {},
   "source": [
    "# Insights\n",
    "\n",
    "- Distance is the dominant feature.\n",
    "- pickup Year shows moderate importance. This might indicate fare variations over different years\n",
    "- Time of Day has some influence on the price.\n",
    "- Low importance features:\n",
    "    - pickup month\n",
    "    - pickup day of week\n",
    "    - pickup hour\n",
    "    - passenger count\n",
    "    "
   ]
  },
  {
   "cell_type": "code",
   "execution_count": null,
   "metadata": {},
   "outputs": [],
   "source": []
  },
  {
   "cell_type": "code",
   "execution_count": null,
   "metadata": {},
   "outputs": [],
   "source": []
  }
 ],
 "metadata": {
  "kernelspec": {
   "display_name": "Python 3",
   "language": "python",
   "name": "python3"
  },
  "language_info": {
   "codemirror_mode": {
    "name": "ipython",
    "version": 3
   },
   "file_extension": ".py",
   "mimetype": "text/x-python",
   "name": "python",
   "nbconvert_exporter": "python",
   "pygments_lexer": "ipython3",
   "version": "3.11.0"
  }
 },
 "nbformat": 4,
 "nbformat_minor": 2
}
